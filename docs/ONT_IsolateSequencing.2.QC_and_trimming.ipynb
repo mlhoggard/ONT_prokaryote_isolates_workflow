{
 "cells": [
  {
   "cell_type": "markdown",
   "metadata": {},
   "source": [
    "# ONT sequencing data processing for prokaryote isolates\n",
    "\n",
    "# QC and sequence read trimming"
   ]
  },
  {
   "cell_type": "markdown",
   "metadata": {},
   "source": [
    "***"
   ]
  },
  {
   "cell_type": "markdown",
   "metadata": {
    "tags": []
   },
   "source": [
    "## Assess quality of sequencing reads\n",
    "\n",
    "There are several options to assess read quality statistics. Examples below include *NanoStat*, *Nanoplot*, and *pycoQC*.\n",
    "\n",
    "NOTE: \n",
    "\n",
    "- If you get very fragmented assemblies downstream, you can opt to apply a filter here (e.g. length or quality filter) to remove some of the poorer reads, which *may* improve assemblies downstream. Some options for this include *nanofilt* or *filtlong*.\n"
   ]
  },
  {
   "cell_type": "markdown",
   "metadata": {},
   "source": [
    "#### Run Nanostat\n",
    "\n",
    "It may take a few mins per sample to run this. If connection drop outs are an issue, you could run this remotely via, e.g., *slurm* or *tmux*."
   ]
  },
  {
   "cell_type": "code",
   "execution_count": null,
   "metadata": {},
   "outputs": [],
   "source": [
    "# Working directory\n",
    "cd /working/dir\n",
    "mkdir -p 0.raw_data/3.NanoStat\n",
    "\n",
    "# Load modules\n",
    "module purge\n",
    "module load NanoStat/1.5.0-gimkl-2020a-Python-3.8.2\n",
    "\n",
    "# Run NanoStat on each barcode dataset\n",
    "for i in {1..96}; do\n",
    "    echo \"S${i}\"\n",
    "    NanoStat -t 8 --tsv \\\n",
    "    -n 0.raw_data/3.NanoStat/S${i}.NanoStat.tsv \\\n",
    "    --fastq 0.raw_data/2.basecalled.demux/S${i}.fastq\n",
    "done\n"
   ]
  },
  {
   "cell_type": "markdown",
   "metadata": {},
   "source": [
    "#### Merge Nanostat results into one summary table \n",
    "\n",
    "Example python code to generate summary table:"
   ]
  },
  {
   "cell_type": "code",
   "execution_count": null,
   "metadata": {},
   "outputs": [],
   "source": [
    "# Working directory\n",
    "cd /working/dir\n",
    "\n",
    "# Load python\n",
    "module purge\n",
    "module load Python/3.8.2-gimkl-2020a\n",
    "python3\n",
    "\n",
    "### Import required libraries\n",
    "import pandas as pd\n",
    "import numpy as np\n",
    "from glob import glob\n",
    "\n",
    "# Compile NanoStat results\n",
    "results_list = []\n",
    "file_count = len(glob('0.raw_data/3.NanoStat/*.NanoStat.tsv'))\n",
    "for i in range (1,file_count):\n",
    "    tmp_df = pd.read_csv('0.raw_data/3.NanoStat/S'+str(i)+'.NanoStat.tsv', sep='\\t')\n",
    "    tmp_df.index=['S'+str(i)]*len(tmp_df)\n",
    "    tmp_df = tmp_df.pivot(columns='Metrics', values='dataset')\n",
    "    results_list.append(tmp_df)\n",
    "\n",
    "# Generate summary table and write out\n",
    "results_df = pd.concat(results_list, axis=0)\n",
    "results_df.index.name = 'SampleID'\n",
    "results_df.to_csv('0.raw_data/3.NanoStat/summary_table_NanoStat.tsv', sep='\\t')\n",
    "\n",
    "quit()\n"
   ]
  },
  {
   "cell_type": "markdown",
   "metadata": {},
   "source": [
    "#### Plot read metrics via NanoPlot"
   ]
  },
  {
   "cell_type": "code",
   "execution_count": null,
   "metadata": {},
   "outputs": [],
   "source": [
    "cd /work/dir/0.raw_data\n",
    "mkdir -p 0.raw_data/3.NanoPlot\n",
    "\n",
    "module purge \n",
    "module load NanoPlot/1.41.0-gimkl-2022a-Python-3.10.5\n",
    "\n",
    "reads_files=$(ls 0.raw_data/2.basecalled.demux/*.fastq)\n",
    "\n",
    "NanoPlot -t 8 --tsv_stats \\\n",
    "--fastq ${reads_files} \\\n",
    "-o 0.raw_data/3.NanoPlot\n"
   ]
  },
  {
   "cell_type": "markdown",
   "metadata": {},
   "source": [
    "#### Check raw reads via pycoQC\n",
    "\n",
    "- similar to fastqc but for nanopore data\n",
    "- Note: this is run on the `sequencing_summary_<sequencing_run_ID>.txt` file generated during sequencing. As such, it may reflect stats for the data as per the live demultiplexing during the sequencing run, rather than the re-basecalled and demultiplexed data. But it should still give a rough indication of the data."
   ]
  },
  {
   "cell_type": "code",
   "execution_count": null,
   "metadata": {},
   "outputs": [],
   "source": [
    "cd /work/dir\n",
    "mkdir -p 0.raw_data/3.pycoQC\n",
    "\n",
    "module purge\n",
    "module load pycoQC/2.5.2-gimkl-2020a-Python-3.8.2\n",
    "\n",
    "pycoQC -f 0.raw_data/sequencing_summary.txt -o 0.raw_data/3.pycoQC/pycoQC.html\n"
   ]
  },
  {
   "cell_type": "markdown",
   "metadata": {},
   "source": [
    "***"
   ]
  },
  {
   "cell_type": "markdown",
   "metadata": {},
   "source": [
    "## Quality trim and filter via *chopper*\n",
    "\n",
    "Set the filtering and trimming metrics as is appropriate for your data based on the quality assessments above. \n",
    "\n",
    "For these example data, based on pycoQC output:\n",
    "- filtering was set to q >= 8\n",
    "- Looked to be a number of short reads in the data (~100-200 bp). min read length set to 100 to filter these out.\n",
    "- head and tail crop set to 15 (picked arbitrarily in case any junk at ends remain)\n",
    "\n",
    "In this example, stderr is also written to file (this includes read counts retained out of total per file): `1.trimmed_and_filtered_reads/1.chopper/chopper.readcounts.txt`\n",
    "\n",
    "Note: there are later chopper versions available, but at the time of writing these docs these later versions weren't working on NeSI"
   ]
  },
  {
   "cell_type": "code",
   "execution_count": null,
   "metadata": {
    "vscode": {
     "languageId": "shellscript"
    }
   },
   "outputs": [],
   "source": [
    "cd /work/dir/\n",
    "mkdir -p 1.trimmed_and_filtered_reads/1.chopper/fastq_files\n",
    "\n",
    "module purge\n",
    "module load chopper/0.5.0-GCC-11.3.0\n",
    "\n",
    "# write stderr to file for read counts summary\n",
    "> 1.trimmed_and_filtered_reads/1.chopper/chopper.readcounts.txt\n",
    "\n",
    "# run chopper\n",
    "for i in {1..96}; do\n",
    "    echo S${i}\n",
    "    echo \"S${i}.fastq:\" >> 1.trimmed_and_filtered_reads/1.chopper/chopper.readcounts.txt\n",
    "    cat 0.raw_data/2.basecalled.demux/S${i}.fastq | chopper --threads 8 -q 8 -l 100 --headcrop 15 --tailcrop 15 \\\n",
    "    > 1.trimmed_and_filtered_reads/1.chopper/fastq_files/S${i}.chopper.fastq 2>>1.trimmed_and_filtered_reads/1.chopper/chopper.readcounts.txt\n",
    "done\n"
   ]
  },
  {
   "cell_type": "markdown",
   "metadata": {},
   "source": [
    "### Add filtered read counts to summary_table (write as summary_table_NanoStatRaw_ChopperFiltered.tsv)"
   ]
  },
  {
   "cell_type": "code",
   "execution_count": null,
   "metadata": {},
   "outputs": [],
   "source": [
    "# Working directory\n",
    "cd /work/dir/\n",
    "\n",
    "# Load python\n",
    "module purge\n",
    "module load Python/3.8.2-gimkl-2020a\n",
    "python3\n",
    "\n",
    "### Import required libraries\n",
    "import pandas as pd\n",
    "import numpy as np\n",
    "from glob import glob\n",
    "\n",
    "df1 = pd.read_csv('0.raw_data/3.NanoStat/summary_table_NanoStat.tsv', sep='\\t').add_prefix('raw_reads_').rename(columns={'raw_reads_SampleID': 'SampleID'})\n",
    "\n",
    "sampleID = []\n",
    "raw_read_count = []\n",
    "filtered_read_count = []\n",
    "with open('1.trimmed_and_filtered_reads/1.chopper/chopper.readcounts.txt') as file:\n",
    "    for line in file:\n",
    "        if 'fastq' in line:\n",
    "            sampleID.append(line.split('.')[0])\n",
    "        elif 'Kept' in line:\n",
    "            raw_read_count.append(line.split(' ')[5])\n",
    "            filtered_read_count.append(line.split(' ')[1])\n",
    "\n",
    "df2 = pd.DataFrame(data={'SampleID': sampleID, 'raw_reads_count': raw_read_count, 'filtered_reads_count': filtered_read_count})\n",
    "\n",
    "df = pd.merge(df1, df2, on = 'SampleID')\n",
    "\n",
    "df.to_csv('1.trimmed_and_filtered_reads/summary_table_NanoStatRaw_ChopperFiltered.tsv', sep='\\t')\n",
    "\n",
    "quit()\n",
    "\n"
   ]
  },
  {
   "cell_type": "markdown",
   "metadata": {},
   "source": [
    "#### Re-run summary stats: e.g. NanoPlot\n"
   ]
  },
  {
   "cell_type": "code",
   "execution_count": null,
   "metadata": {},
   "outputs": [],
   "source": [
    "cd /work/dir/1.trimmed_and_filtered_reads/\n",
    "mkdir -p 2.chopper.NanoPlot\n",
    "\n",
    "module purge \n",
    "module load NanoPlot/1.41.0-gimkl-2022a-Python-3.10.5\n",
    "\n",
    "reads_files=$(ls 1.chopper/fastq_files/*.chopper.fastq)\n",
    "\n",
    "NanoPlot -t 8 --tsv_stats \\\n",
    "--fastq ${reads_files} \\\n",
    "-o 2.chopper.NanoPlot\n"
   ]
  },
  {
   "cell_type": "markdown",
   "metadata": {},
   "source": [
    "***"
   ]
  }
 ],
 "metadata": {
  "kernelspec": {
   "display_name": "Python 3 (ipykernel)",
   "language": "python",
   "name": "python3"
  },
  "language_info": {
   "codemirror_mode": {
    "name": "ipython",
    "version": 3
   },
   "file_extension": ".py",
   "mimetype": "text/x-python",
   "name": "python",
   "nbconvert_exporter": "python",
   "pygments_lexer": "ipython3",
   "version": "3.9.12"
  }
 },
 "nbformat": 4,
 "nbformat_minor": 4
}
