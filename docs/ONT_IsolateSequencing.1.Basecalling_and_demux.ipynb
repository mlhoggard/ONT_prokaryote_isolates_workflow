{
 "cells": [
  {
   "cell_type": "markdown",
   "metadata": {},
   "source": [
    "# ONT sequencing data processing for prokaryote isolates\n",
    "\n",
    "# Basecalling and demultiplexing\n",
    "\n",
    "Note: the example below is based on a sequencing run of one plate of 96 samples using multiplexing barcodes 1-96"
   ]
  },
  {
   "cell_type": "markdown",
   "metadata": {},
   "source": [
    "***"
   ]
  },
  {
   "cell_type": "markdown",
   "metadata": {},
   "source": [
    "## Data prep"
   ]
  },
  {
   "cell_type": "markdown",
   "metadata": {},
   "source": [
    "#### Copy POD5 files\n",
    "\n",
    "Note: If data is received from the sequencing provider already demultiplexed, this demultiplexing can be based on live 'fast' basecalling during the sequencing run (and the 'alias' column in the *sequencing_summary.txt* files is _likely_ derived from this fast basecalling). If this is the case, it would be preferable to _first_ redo basecalling with SUP model, and then redo all of the demultiplexing to ensure demultiplexing is done based on the highest quality base calls.\n",
    "\n",
    "If the data was provided demultiplexed, copy each set of raw data files into a single pod5 directory, ignoring the previous split by 'pass' and 'fail' and previous demultiplexing by barcode.\n",
    "\n",
    "Note: the basecalling step here uses the *sample_sheet_<sequencing_run_ID>.csv* file generated during the sequencing run (this should be provided with the data delivery). Also copy the *sequencing_summary_<sequencing_run_ID>.txt* file if you wish to run *pycoQC* later."
   ]
  },
  {
   "cell_type": "code",
   "execution_count": null,
   "metadata": {
    "vscode": {
     "languageId": "shellscript"
    }
   },
   "outputs": [],
   "source": [
    "cd /work/dir/\n",
    "mkdir -p 0.raw_data\n",
    "\n",
    "# pod5 files\n",
    "cp -r /path/to/raw/data/pod5_pass/*/*.pod5 0.raw_data/0.pod5/\n",
    "cp -r /path/to/raw/data/pod5_fail/*/*.pod5 0.raw_data/0.pod5/\n",
    "\n",
    "# accessory files\n",
    "cp /path/to/raw/data/sample_sheet.csv 0.raw_data/\n",
    "cp /path/to/raw/data/sequencing_summary.txt 0.raw_data/"
   ]
  },
  {
   "cell_type": "markdown",
   "metadata": {},
   "source": [
    "#### Edit sample sheets\n",
    "\n",
    "For formatting, see docs [here](https://github.com/nanoporetech/dorado/blob/release-v0.7/documentation/SampleSheets.md)\n",
    "\n",
    "Key points: \n",
    "\n",
    "- At a minimum a sample sheet must contain `kit`, `experiment_id` and one of `position_id` or `flow_cell_id`. All rows in a sample sheet must contain the same `experiment_id`.\n",
    "- Add `barcode` and `alias` columns to enable renaming output files from dorado\n",
    "\n",
    "Example below for reformatting via *python*. Update 'kit', 'barcode', and 'alias' entries as appropriate for your sample number and sample IDs. This example used kit 'SQK-RBK114-96', barcode1-barcode96, and sample IDs (taken from 'alias') S1-S96. "
   ]
  },
  {
   "cell_type": "code",
   "execution_count": null,
   "metadata": {},
   "outputs": [],
   "source": [
    "cd /work/dir\n",
    "\n",
    "# Load python\n",
    "module purge\n",
    "module load Python/3.11.6-foss-2023a\n",
    "python3\n",
    "\n",
    "# Import required libraries\n",
    "import pandas as pd\n",
    "import numpy as np\n",
    "\n",
    "# plate 1\n",
    "df = pd.read_csv('0.raw_data/sample_sheet.csv')[['experiment_id', 'position_id', 'flow_cell_id', 'protocol_run_id', 'flow_cell_product_code']].loc[[0]]\n",
    "df['kit'] = 'SQK-RBK114-96'\n",
    "# add barcode-to-sampleID mapping as 'alias'\n",
    "df = pd.merge(df, pd.DataFrame(data={'kit': 'SQK-RBK114-96', 'barcode': 'barcode'+pd.Series(range(1,97)).astype(str).str.zfill(2), 'alias': 'S'+pd.Series(range(1,97)).astype(str)}), on='kit')\n",
    "df.to_csv('0.raw_data/sample_sheet.formatted.csv', index=False)\n",
    "\n",
    "quit()\n"
   ]
  },
  {
   "cell_type": "markdown",
   "metadata": {},
   "source": [
    "***"
   ]
  },
  {
   "cell_type": "markdown",
   "metadata": {},
   "source": [
    "## Base-calling with dorado"
   ]
  },
  {
   "cell_type": "markdown",
   "metadata": {},
   "source": [
    "#### Pre-download model\n",
    "\n",
    "Example here is with Dorado v0.7.3 and the appropriate model for this particular sequencing run. Check for later Dorado versions and model updates (note: models aren't always available that match exactly to the sequencing kit used; pick the most appropriate one)."
   ]
  },
  {
   "cell_type": "code",
   "execution_count": null,
   "metadata": {
    "vscode": {
     "languageId": "shellscript"
    }
   },
   "outputs": [],
   "source": [
    "cd /work/dir/0.raw_data\n",
    "mkdir basecalling_model\n",
    "cd basecalling_model\n",
    "\n",
    "module purge\n",
    "module load Dorado/0.7.3 \n",
    "dorado download --model dna_r10.4.1_e8.2_400bps_sup@v5.0.0 \n"
   ]
  },
  {
   "cell_type": "markdown",
   "metadata": {},
   "source": [
    "#### Run basecalling\n",
    "\n",
    "This basecalling example requires GPU access on NeSI to run.\n",
    "\n",
    "Note: Using HAC (high-accuracy) data can increase coverage (compared with SUP (super-high accuracy) data), but at the expense of a lower quality threshold for individual reads. Coverage depth can be an important factor in the completeness and accuracy of genome assemblies downstream, and so can be important to consider when choosing between HAC and SUP data."
   ]
  },
  {
   "cell_type": "raw",
   "metadata": {},
   "source": [
    "dorado_bascalling.sl"
   ]
  },
  {
   "cell_type": "code",
   "execution_count": null,
   "metadata": {
    "vscode": {
     "languageId": "shellscript"
    }
   },
   "outputs": [],
   "source": [
    "#!/bin/bash -e\n",
    "#SBATCH -A <>\n",
    "#SBATCH -J dorado_bascalling\n",
    "#SBATCH --time=2-12:00:00\n",
    "#SBATCH --mem=40G\n",
    "#SBATCH --ntasks=1\n",
    "#SBATCH --cpus-per-task=24\n",
    "#SBATCH --output=dorado_bascalling.out\n",
    "#SBATCH --error=dorado_bascalling.err\n",
    "#SBATCH --partition=hgx\n",
    "#SBATCH --gpus-per-node=A100:1\n",
    "\n",
    "cd /work/dir/0.raw_data/\n",
    "mkdir -p 1.basecalling\n",
    "\n",
    "module purge\n",
    "module load Dorado/0.7.3 \n",
    "\n",
    "dorado basecaller --kit-name SQK-RBK114-96 --trim all --device 'cuda:all' --recursive --sample-sheet sample_sheet.formatted.csv basecalling_model/dna_r10.4.1_e8.2_400bps_sup@v5.0.0 0.pod5/ > 1.basecalling/basecalled.dorado0.7.3_sup.bam\n"
   ]
  },
  {
   "cell_type": "markdown",
   "metadata": {},
   "source": [
    "Example runtime < 2.5 days; MaxRSS < 30 GB"
   ]
  },
  {
   "cell_type": "markdown",
   "metadata": {},
   "source": [
    "***"
   ]
  },
  {
   "cell_type": "markdown",
   "metadata": {},
   "source": [
    "### Demultiplexing\n",
    "\n",
    "Demultiplex based on barcode/sampleIDs (added during basecalling step above)\n"
   ]
  },
  {
   "cell_type": "raw",
   "metadata": {
    "vscode": {
     "languageId": "raw"
    }
   },
   "source": [
    "dorado_demux.sl"
   ]
  },
  {
   "cell_type": "code",
   "execution_count": null,
   "metadata": {
    "vscode": {
     "languageId": "shellscript"
    }
   },
   "outputs": [],
   "source": [
    "#!/bin/bash\n",
    "#SBATCH -A <>\n",
    "#SBATCH -J dorado_demux\n",
    "#SBATCH --time 00:30:00\n",
    "#SBATCH --ntasks=1\n",
    "#SBATCH --mem 4GB\n",
    "#SBATCH --cpus-per-task=16\n",
    "#SBATCH -e dorado_demux.err\n",
    "#SBATCH -o dorado_demux.out\n",
    "\n",
    "cd /work/dir/0.raw_data/\n",
    "mkdir -p 2.basecalled.demux\n",
    "\n",
    "module purge\n",
    "module load Dorado/0.7.3 \n",
    "\n",
    "dorado demux --no-classify --emit-fastq --output-dir 2.basecalled.demux 1.basecalling/basecalled.dorado0.7.3_sup.bam\n"
   ]
  },
  {
   "cell_type": "markdown",
   "metadata": {},
   "source": [
    "Example runtime < 25 mins ; maxrss < 2 GB "
   ]
  },
  {
   "cell_type": "markdown",
   "metadata": {},
   "source": [
    "***"
   ]
  }
 ],
 "metadata": {
  "language_info": {
   "name": "python"
  }
 },
 "nbformat": 4,
 "nbformat_minor": 2
}
