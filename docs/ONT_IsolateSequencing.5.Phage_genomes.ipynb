{
 "cells": [
  {
   "cell_type": "markdown",
   "metadata": {},
   "source": [
    "# ONT sequencing data processing for prokaryote isolates\n",
    "\n",
    "# Phage genomes\n"
   ]
  },
  {
   "cell_type": "markdown",
   "metadata": {},
   "source": [
    "***"
   ]
  },
  {
   "cell_type": "markdown",
   "metadata": {},
   "source": [
    "#### General notes\n",
    "\n",
    "Now that we have sets of assembled contigs, the same process outlined in the Viromics_WGS pipeline docs (from step 3_Viral_Identification onwards) can also be used here to identify and filter putative integrated prophage\\* from within the assembled prokaryote genomes, predict and annotate genes, and predict viral taxonomy and/or clustering with reference viral genomes.\n",
    "\n",
    "NOTE:\n",
    "\n",
    "- \\*Since DNA extractions in this example were from bacterial isolates grown in liquid media and spun down into a pellet for extraction, this process will predominantly target *prophage* that are integrated into the host genome *at the time of DNA extraction*. Lytic viruses are less likely to be caught here. However, in our experience, there may also be some cases where assembled contigs are fully circular viral genomes, which may represent intracellular viruses that are not integrated into the genome (e.g. replicating at the time; or viruses that are intracellular but do not integrate into the genome (akin to a plasmid)), or extracellular viral particles caught within the pellet during centrifugation and DNA extraction. \n",
    "\n",
    "#### DNA virus identification\n",
    "\n",
    "You can proceed by simply running each of the assemblies (individual isolate assemblies, in this case) through the viral identification steps in parallel (e.g. as slurm arrays), or by first combining all assembled contigs into one file and then running all together (you can use the `assembly2contig_lookupTable.tsv` file generated earlier to match viruses back to the host isolate genome assemblies later).  \n",
    "\n",
    "Note that, in this case, it may be prefereable to skip the final dereplication step (via `Cluster_genomes.pl`). For individual isolate genomes, you will likely want to retain closely related viruses as distinct genomes rather than clustering them together (especially if they originated from different isolates, or are from the same isolate but one sequence is excised from an integrated prophage, and another identical sequence is a circular genome (suggesting both integration and replication in the host)). \n",
    "\n",
    "#### RNA virus identification\n",
    "\n",
    "We don't currently have a dedicated workflow online for identifying RNA viruses. But if you have RNAseq data available, you could also attempt to identify RNA viruses in parallel. RdRP genes/proteins are commonly used as a marker for (most) RNA viruses, so identification usually involves some sort of search (e.g. blast, or more recently hmm-based searches) of assembled sequences against a database of RdRP gene or protein sequences. Note that if assembling with SPAdes, the developers recommend *rnaviralSPAdes* and **not** standard *rnaSPAdes* (which was developed with transcripts in mind, rather than assembling viral genomes).\n",
    "\n",
    "#### Gene prediction and annotation\n",
    "\n",
    "Viral gene prediction and annotation can follow the same steps as outlined in the viromics docs. You may wish to first concatenate viral genomes into one data set to run together in *DRAM-v* (you can use the `assembly2contig_lookupTable.tsv` file generated earlier to match viruses back to the host isolate genome assemblies later). \n",
    "\n",
    "Note that this will be a considerably smaller dataset than metagenomics-derived viruses, and it is unlikely that you will need to split the data into multiple subsets before running *DRAM-v* (although doing so should still speed up the process to *some* extent).\n",
    "\n",
    "#### Read mapping\n",
    "\n",
    "In the viromics example, trimmed and filtered WGS sequencing reads were mapped back to the final set of dereplicated viral contigs to generate differential coverage profiles across samples. Running the same process here likely gives you less ecologically relevant information, but can still give you an indication if, for example, viruses are replicating at the time of sampling (i.e. if coverage of viral genomic regions is considerably higher than the rest of the host genome). If this is of interest, run this separately for each isolate and their suite of associated virus(es) (i.e. map reads from one isolate to a file of concatenated viral sequences identified in *that* isolate (e.g. the checkv-filtered output from `virome_per_sample_derep.py`) together with the assembled isolate genome).\n",
    "\n",
    "#### Taxonomy and clustering with reference sequences\n",
    "\n",
    "See the viromics taxonomy prediction docs [here](https://github.com/GenomicsAotearoa/environmental_metagenomics) for important information regarding predicting viral taxonomy and clustering with reference sequences. The same *vConTACT2* clustering process can be run on a concatenated file of all viruses identified in the isolate assemblies.\n",
    "\n",
    "#### Host-prediction\n",
    "\n",
    "As was noted in the viromics docs, matching viruses to hosts in metagenomics data is currently one of the major limiting factors in viromics. As we have identified viral sequences directly from host isolates this is not an issue here, and we have a direct link between host genome and viral genome. Some of the steps in the viromics host prediction docs may still be of some interest, however (for example, it may still be of interest to identify CRISPR spacer regions).\n"
   ]
  },
  {
   "cell_type": "markdown",
   "metadata": {},
   "source": [
    "***"
   ]
  }
 ],
 "metadata": {
  "kernelspec": {
   "display_name": "Python 3 (ipykernel)",
   "language": "python",
   "name": "python3"
  },
  "language_info": {
   "codemirror_mode": {
    "name": "ipython",
    "version": 3
   },
   "file_extension": ".py",
   "mimetype": "text/x-python",
   "name": "python",
   "nbconvert_exporter": "python",
   "pygments_lexer": "ipython3",
   "version": "3.9.12"
  }
 },
 "nbformat": 4,
 "nbformat_minor": 4
}
